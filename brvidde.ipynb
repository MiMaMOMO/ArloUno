{
 "cells": [
  {
   "cell_type": "code",
   "execution_count": 25,
   "metadata": {},
   "outputs": [],
   "source": [
    "import numpy as np"
   ]
  },
  {
   "cell_type": "code",
   "execution_count": 28,
   "metadata": {},
   "outputs": [
    {
     "name": "stdout",
     "output_type": "stream",
     "text": [
      "1591.4275862068964\n",
      "1600.5793103448277\n",
      "\n",
      "\n",
      "38297.70414982166\n",
      "31727.45675386447\n"
     ]
    }
   ],
   "source": [
    "X = (14.5, 14.5)\n",
    "\n",
    "frame_01_horizont = (708 - 509) * (124 / 14.5)\n",
    "frame_02_horizont = (410 - 256) * (161 / 14.5)\n",
    "frame_03_horizont = (710 - 418) * (76 / 14.5)\n",
    "frame_04_horizont = (722 - 507) * (85.5 / 14.5)\n",
    "frame_05_horizont = (601 - 441) * (117 / 14.5)\n",
    "frame_06_horizont = (775 - 226) * (44.5 / 14.5)\n",
    "frame_07_horizont = (763 - 336) * (62.2 / 14.5)\n",
    "frame_08_horizont = (730 - 377) * (70.4 / 14.5)\n",
    "\n",
    "frames_horizont = [\n",
    "    frame_01_horizont,\n",
    "    frame_02_horizont,\n",
    "    frame_03_horizont,\n",
    "    frame_04_horizont,\n",
    "    frame_05_horizont,\n",
    "    frame_06_horizont,\n",
    "    frame_07_horizont,\n",
    "    frame_08_horizont,\n",
    "]\n",
    "frames_horizont = np.asarray(frames_horizont)\n",
    "\n",
    "avg_horizont = frames_horizont.mean()\n",
    "var_horizont = frames_horizont.var()\n",
    "\n",
    "frame_01_vertical = (323 - 125) * (124 / 14.5)\n",
    "frame_02_vertical = (366 - 212) * (161 / 14.5)\n",
    "frame_03_vertical = (677 - 370) * (76 / 14.5)\n",
    "frame_04_vertical = (666 - 447) * (85.5 / 14.5)\n",
    "frame_05_vertical = (630 - 468) * (117 / 14.5)\n",
    "frame_06_vertical = (626 - 66) * (44.5 / 14.5)\n",
    "frame_07_vertical = (591 - 188) * (62.5 / 14.5)\n",
    "frame_08_vertical = (589 - 231) * (70.4 / 14.5)\n",
    "\n",
    "frames_vertical = [\n",
    "    frame_01_vertical,\n",
    "    frame_02_vertical,\n",
    "    frame_03_vertical,\n",
    "    frame_04_vertical,\n",
    "    frame_05_vertical,\n",
    "    frame_06_vertical,\n",
    "    frame_07_vertical,\n",
    "    frame_08_vertical,\n",
    "]\n",
    "frames_vertical = np.asarray(frames_vertical)\n",
    "\n",
    "avg_vertical = frames_vertical.mean()\n",
    "var_vertical = frames_vertical.var()\n",
    "\n",
    "print(avg_horizont)\n",
    "print(avg_vertical)\n",
    "print(\"\\n\")\n",
    "print(var_horizont)\n",
    "print(var_vertical)\n"
   ]
  },
  {
   "cell_type": "code",
   "execution_count": 1,
   "metadata": {},
   "outputs": [
    {
     "ename": "",
     "evalue": "",
     "output_type": "error",
     "traceback": [
      "\u001b[1;31mThe Kernel crashed while executing code in the the current cell or a previous cell. Please review the code in the cell(s) to identify a possible cause of the failure. Click <a href='https://aka.ms/vscodeJupyterKernelCrash'>here</a> for more info. View Jupyter <a href='command:jupyter.viewOutput'>log</a> for further details."
     ]
    }
   ],
   "source": [
    "import cv2\n",
    "import numpy as np\n",
    "import matplotlib.pyplot as plt\n",
    "import imutils\n",
    "\n",
    "img = cv2.imread(\"frame1_copy.png\", 1)\n",
    "cv2.imshow('image', img)\n",
    "\n",
    "# img1 = imutils.resize(img)\n",
    "# img2 = img1[197:373,181:300]  #roi of the image\n",
    "\n",
    "# indices = np.where(img2!= [0])\n",
    "# coordinates = zip(indices[0], indices[1])"
   ]
  },
  {
   "cell_type": "code",
   "execution_count": null,
   "metadata": {},
   "outputs": [],
   "source": []
  },
  {
   "cell_type": "code",
   "execution_count": null,
   "metadata": {},
   "outputs": [],
   "source": []
  }
 ],
 "metadata": {
  "kernelspec": {
   "display_name": "Python 3.9.5 64-bit",
   "language": "python",
   "name": "python3"
  },
  "language_info": {
   "codemirror_mode": {
    "name": "ipython",
    "version": 3
   },
   "file_extension": ".py",
   "mimetype": "text/x-python",
   "name": "python",
   "nbconvert_exporter": "python",
   "pygments_lexer": "ipython3",
   "version": "3.9.5"
  },
  "orig_nbformat": 4,
  "vscode": {
   "interpreter": {
    "hash": "e03420e8de72b1098827cb5afbe8dc3ae2d054f3b784d3f007bd396b5fbc3cd8"
   }
  }
 },
 "nbformat": 4,
 "nbformat_minor": 2
}
