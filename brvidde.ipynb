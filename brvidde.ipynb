{
 "cells": [
  {
   "cell_type": "code",
   "execution_count": 25,
   "metadata": {},
   "outputs": [],
   "source": [
    "import numpy as np"
   ]
  },
  {
   "cell_type": "markdown",
   "metadata": {},
   "source": [
    "## Brændevidde"
   ]
  },
  {
   "cell_type": "code",
   "execution_count": 71,
   "metadata": {},
   "outputs": [],
   "source": [
    "def brændevidde(data, X=14.5):\n",
    "    x1, x2, y1, y2, Z = data\n",
    "    horizontal = (x2 - x1) * (Z / X)\n",
    "    vertical = (y2 - y1) * (Z / X)\n",
    "    \n",
    "    return (horizontal, vertical)"
   ]
  },
  {
   "cell_type": "code",
   "execution_count": 78,
   "metadata": {},
   "outputs": [],
   "source": [
    "# x1, x2, y1, y2, Z\n",
    "frame_01 = (509, 708, 125, 323, 124)\n",
    "frame_02 = (256, 410, 212, 366, 161)\n",
    "frame_03 = (418, 710, 370, 677, 76)\n",
    "frame_04 = (507, 722, 447, 666, 85.5)\n",
    "frame_05 = (441, 601, 468, 630, 117)\n",
    "frame_06 = (226, 775, 66, 626, 44.5)\n",
    "frame_07 = (336, 763, 188, 591, 62.5)\n",
    "frame_08 = (377, 730, 231, 589, 70.4)\n",
    "\n",
    "frames = [\n",
    "    frame_01,\n",
    "    frame_02,\n",
    "    frame_03,\n",
    "    frame_04,\n",
    "    frame_05,\n",
    "    frame_06,\n",
    "    frame_07,\n",
    "    frame_08\n",
    "]\n",
    "frames = np.asarray(frames)\n",
    "frames = np.array([brændevidde(frame) for frame in frames])"
   ]
  },
  {
   "cell_type": "code",
   "execution_count": 118,
   "metadata": {},
   "outputs": [
    {
     "name": "stdout",
     "output_type": "stream",
     "text": [
      "Brændevidde f:                   1596\n",
      "Variance in sample values of f:  35282\n"
     ]
    }
   ],
   "source": [
    "avg = np.mean(frames, axis=0)\n",
    "var = np.var(frames, axis=0)\n",
    "\n",
    "print(\"Brændevidde f:                  \", int((sum(avg)) / 2))\n",
    "print(\"Variance in sample values of f: \", int((sum(var) / 2)))"
   ]
  },
  {
   "cell_type": "code",
   "execution_count": 116,
   "metadata": {},
   "outputs": [
    {
     "name": "stdout",
     "output_type": "stream",
     "text": [
      "11881\n"
     ]
    }
   ],
   "source": [
    "t = (1701 - 1592) ** 2\n",
    "print(t)"
   ]
  },
  {
   "cell_type": "code",
   "execution_count": 1,
   "metadata": {},
   "outputs": [
    {
     "ename": "",
     "evalue": "",
     "output_type": "error",
     "traceback": [
      "\u001b[1;31mThe Kernel crashed while executing code in the the current cell or a previous cell. Please review the code in the cell(s) to identify a possible cause of the failure. Click <a href='https://aka.ms/vscodeJupyterKernelCrash'>here</a> for more info. View Jupyter <a href='command:jupyter.viewOutput'>log</a> for further details."
     ]
    }
   ],
   "source": [
    "import cv2\n",
    "import numpy as np\n",
    "import matplotlib.pyplot as plt\n",
    "import imutils\n",
    "\n",
    "img = cv2.imread(\"frame1_copy.png\", 1)\n",
    "cv2.imshow('image', img)\n",
    "\n",
    "# img1 = imutils.resize(img)\n",
    "# img2 = img1[197:373,181:300]  #roi of the image\n",
    "\n",
    "# indices = np.where(img2!= [0])\n",
    "# coordinates = zip(indices[0], indices[1])"
   ]
  }
 ],
 "metadata": {
  "kernelspec": {
   "display_name": "Python 3.9.5 64-bit",
   "language": "python",
   "name": "python3"
  },
  "language_info": {
   "codemirror_mode": {
    "name": "ipython",
    "version": 3
   },
   "file_extension": ".py",
   "mimetype": "text/x-python",
   "name": "python",
   "nbconvert_exporter": "python",
   "pygments_lexer": "ipython3",
   "version": "3.9.5"
  },
  "orig_nbformat": 4,
  "vscode": {
   "interpreter": {
    "hash": "e03420e8de72b1098827cb5afbe8dc3ae2d054f3b784d3f007bd396b5fbc3cd8"
   }
  }
 },
 "nbformat": 4,
 "nbformat_minor": 2
}
