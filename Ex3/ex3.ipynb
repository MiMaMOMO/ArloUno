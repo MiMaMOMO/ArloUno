{
 "cells": [
  {
   "cell_type": "code",
   "execution_count": 2,
   "metadata": {},
   "outputs": [],
   "source": [
    "import numpy as np"
   ]
  },
  {
   "cell_type": "markdown",
   "metadata": {},
   "source": [
    "## Brændevidde"
   ]
  },
  {
   "cell_type": "code",
   "execution_count": 3,
   "metadata": {},
   "outputs": [],
   "source": [
    "def brændevidde(data, X=14.5):\n",
    "    x1, x2, y1, y2, Z = data\n",
    "    horizontal = (x2 - x1) * (Z / X)\n",
    "    vertical = (y2 - y1) * (Z / X)\n",
    "    \n",
    "    return (horizontal, vertical)"
   ]
  },
  {
   "cell_type": "code",
   "execution_count": 31,
   "metadata": {},
   "outputs": [],
   "source": [
    "frame_02 = (256, 410, 212, 366, 161)\n",
    "frame_01 = (509, 708, 125, 323, 124)\n",
    "frame_05 = (441, 601, 468, 630, 117)\n",
    "frame_04 = (507, 722, 447, 666, 85.5)\n",
    "frame_03 = (418, 710, 370, 677, 76)\n",
    "frame_08 = (377, 730, 231, 589, 70.4)\n",
    "frame_07 = (336, 763, 188, 591, 62.5)\n",
    "frame_06 = (226, 775, 66, 626, 44.5)\n",
    "\n",
    "frames = np.array([\n",
    "    frame_02,\n",
    "    frame_01,\n",
    "    frame_05,\n",
    "    frame_04,\n",
    "    frame_03,\n",
    "    frame_08,\n",
    "    frame_07,\n",
    "    frame_06\n",
    "])\n",
    "brændevidder = [brændevidde(frame) for frame in frames]"
   ]
  },
  {
   "cell_type": "code",
   "execution_count": 33,
   "metadata": {},
   "outputs": [
    {
     "name": "stdout",
     "output_type": "stream",
     "text": [
      "Brændevidde f (vertical):                    1600.58\n",
      "Variance in sample values of f (vertical):  31727.46\n"
     ]
    }
   ],
   "source": [
    "avg = np.mean(brændevidder, axis=0)\n",
    "var = np.var(brændevidder, axis=0)\n",
    "\n",
    "print(\"Brændevidde f (vertical):                   \", round(avg[1], 2))\n",
    "print(\"Variance in sample values of f (vertical): \", round(var[1], 2))"
   ]
  },
  {
   "cell_type": "markdown",
   "metadata": {},
   "source": [
    "## Afstand til landmærket\n",
    "1. Bestemt ved 2 billeder"
   ]
  },
  {
   "cell_type": "code",
   "execution_count": 50,
   "metadata": {},
   "outputs": [
    {
     "name": "stdout",
     "output_type": "stream",
     "text": [
      "Mean real distance:          69.89\n",
      "Mean estimated distance:     93.09\n",
      "Mean error in cm:            57.85\n",
      "Error variance:           20016.97\n",
      "28\n"
     ]
    }
   ],
   "source": [
    "def dist_by_two_images(data_a, data_b):\n",
    "    \" Returns a tuple of (real pos, estimated pos, error)\"\n",
    "    x1_a, x2_a, y1_a, y2_a, Z_a = data_a\n",
    "    x1_b, x2_b, y1_b, y2_b, Z_b = data_b\n",
    "    \n",
    "    D = Z_a - Z_b\n",
    "    p1 = y2_a - y1_a # højde i pixels, image 1\n",
    "    p2 = y2_b - y1_b # højde i pixels, image 2\n",
    "    Z_2 = D * (p1 / (p2 - p1))\n",
    "    error = np.absolute(Z_2 - Z_b)\n",
    "    \n",
    "    return (Z_b, Z_2, error)\n",
    "\n",
    "            \n",
    "distances_by_two_images = [\n",
    "    dist_by_two_images(frames[i], frames[j])\n",
    "    for i in range(len(frames) - 1)\n",
    "    for j in range(len(frames))\n",
    "    if i < j\n",
    "]\n",
    "\n",
    "mean_real_dist_1 = np.mean(distances_by_two_images, axis=0)[0]\n",
    "mean_est_dist_1 = np.mean(distances_by_two_images, axis=0)[1]\n",
    "mean_error_1 = np.mean(distances_by_two_images, axis=0)[2]                                                                                                                                                                           \n",
    "\n",
    "var_error_1 = np.var(distances_by_two_images, axis=0)[2]\n",
    "\n",
    "print(\"Mean real distance:         \", round(mean_real_dist_1, 2))\n",
    "print(\"Mean estimated distance:    \", round(mean_est_dist_1, 2))\n",
    "print(\"Mean error in cm:           \", round(mean_error_1, 2))\n",
    "print(\"Error variance:          \", round(var_error_1, 2))\n",
    "\n",
    "print(len(distances_by_two_images))\n"
   ]
  },
  {
   "cell_type": "code",
   "execution_count": 59,
   "metadata": {},
   "outputs": [
    {
     "data": {
      "image/png": "[encoded data removed]",
      "text/plain": [
       "<Figure size 432x288 with 1 Axes>"
      ]
     },
     "metadata": {},
     "output_type": "display_data"
    }
   ],
   "source": [
    "import matplotlib.pyplot as plt\n",
    "\n",
    "plt.style.use('seaborn-whitegrid')\n",
    "x = np.linspace(0, 800, 10)\n",
    "y = np.linspace(0, 800, 10)\n",
    "plt.rcParams[\"figure.figsize\"] = (6, 4)\n",
    "plt.plot(x, y, color=\"red\")\n",
    "plt.title(\"Real vs estimated position using two points\")\n",
    "plt.xlabel(\"Measured distance\")\n",
    "plt.ylabel(\"Estimated distance\")\n",
    "[plt.scatter(dist[0], dist[1]) for dist in distances_by_two_images]\n",
    "plt.show()\n"
   ]
  },
  {
   "cell_type": "markdown",
   "metadata": {},
   "source": [
    "2. Bestemt ved brændevidden"
   ]
  },
  {
   "cell_type": "code",
   "execution_count": 20,
   "metadata": {},
   "outputs": [
    {
     "name": "stdout",
     "output_type": "stream",
     "text": [
      "Mean error in cm:   9.73\n",
      "Error variance:    70.74\n"
     ]
    }
   ],
   "source": [
    "def image_dist(data, X=14.5, f=1600):\n",
    "    x1, x2, y1, y2, Z = data\n",
    "    dist = f * (X / (y2 - y1))\n",
    "    error = np.absolute(dist - Z)\n",
    "    return (Z, dist, error)\n",
    "\n",
    "dist_and_error = np.array([image_dist(frame) for frame in frames])\n",
    "mean_error_2 = np.mean(dist_and_error, axis=0)[2]\n",
    "var_error_2 = np.var(dist_and_error, axis=0)[2]\n",
    "#print(dist_and_error)\n",
    "print(\"Mean error in cm:  \", round(mean_error_2, 2))\n",
    "print(\"Error variance:   \", round(var_error_2, 2))"
   ]
  },
  {
   "cell_type": "code",
   "execution_count": 17,
   "metadata": {},
   "outputs": [
    {
     "data": {
      "image/png": "[encoded data removed]",
      "text/plain": [
       "<Figure size 432x288 with 1 Axes>"
      ]
     },
     "metadata": {},
     "output_type": "display_data"
    }
   ],
   "source": [
    "plt.style.use('seaborn-whitegrid')\n",
    "x = np.linspace(0, 165, 10)\n",
    "y = np.linspace(0, 165, 10)\n",
    "plt.plot(x, y, color=\"red\")\n",
    "plt.title(\"Real vs estimated position using brændevidde :-) \")\n",
    "plt.xlabel(\"Measured distance\")\n",
    "plt.ylabel(\"Estimated distance\")\n",
    "\n",
    "[plt.scatter(dist[0], dist[1]) for dist in dist_and_error]\n",
    "plt.show()\n"
   ]
  },
  {
   "cell_type": "code",
   "execution_count": null,
   "metadata": {},
   "outputs": [],
   "source": []
  }
 ],
 "metadata": {
  "kernelspec": {
   "display_name": "Python 3.9.5 64-bit",
   "language": "python",
   "name": "python3"
  },
  "language_info": {
   "codemirror_mode": {
    "name": "ipython",
    "version": 3
   },
   "file_extension": ".py",
   "mimetype": "text/x-python",
   "name": "python",
   "nbconvert_exporter": "python",
   "pygments_lexer": "ipython3",
   "version": "3.9.5"
  },
  "orig_nbformat": 4,
  "vscode": {
   "interpreter": {
    "hash": "e03420e8de72b1098827cb5afbe8dc3ae2d054f3b784d3f007bd396b5fbc3cd8"
   }
  }
 },
 "nbformat": 4,
 "nbformat_minor": 2
}
