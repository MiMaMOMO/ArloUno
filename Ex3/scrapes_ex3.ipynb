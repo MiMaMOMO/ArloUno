{
 "cells": [
  {
   "cell_type": "code",
   "execution_count": null,
   "metadata": {},
   "outputs": [],
   "source": [
    "import cv2\n",
    "import numpy as np\n",
    "import matplotlib.pyplot as plt\n",
    "import imutils\n",
    "\n",
    "# img = cv2.imread(\"frame1_copy.png\", 1)\n",
    "# cv2.imshow('image', img)\n",
    "\n",
    "# img1 = imutils.resize(img)\n",
    "# img2 = img1[197:373,181:300]  #roi of the image\n",
    "\n",
    "# indices = np.where(img2!= [0])\n",
    "# coordinates = zip(indices[0], indices[1])"
   ]
  }
 ],
 "metadata": {
  "language_info": {
   "name": "python"
  },
  "orig_nbformat": 4
 },
 "nbformat": 4,
 "nbformat_minor": 2
}
