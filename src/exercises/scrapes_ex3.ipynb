{
 "cells": [
  {
   "cell_type": "code",
   "execution_count": null,
   "metadata": {},
   "outputs": [],
   "source": [
    "import cv2\n",
    "import numpy as np\n",
    "import matplotlib.pyplot as plt\n",
    "import imutils\n",
    "\n",
    "# img = cv2.imread(\"frame1_copy.png\", 1)\n",
    "# cv2.imshow('image', img)\n",
    "\n",
    "# img1 = imutils.resize(img)\n",
    "# img2 = img1[197:373,181:300]  #roi of the image\n",
    "\n",
    "# indices = np.where(img2!= [0])\n",
    "# coordinates = zip(indices[0], indices[1])"
   ]
  },
  {
   "cell_type": "code",
   "execution_count": null,
   "metadata": {},
   "outputs": [],
   "source": [
    "# distances_by_two_images = []\n",
    "# for i in range(len(frames) - 1):\n",
    "#     for j in range(len(frames)):\n",
    "#         if j > i:\n",
    "#             print(i, j)\n",
    "#             distances_by_two_images.append(\n",
    "#                 dist_by_two_images(frames[i], frames[j])\n",
    "#            )\n",
    "     \n",
    "print(distances_by_two_images)"
   ]
  }
 ],
 "metadata": {
  "kernelspec": {
   "display_name": "Python 3.9.5 64-bit",
   "language": "python",
   "name": "python3"
  },
  "language_info": {
   "name": "python",
   "version": "3.9.5"
  },
  "orig_nbformat": 4,
  "vscode": {
   "interpreter": {
    "hash": "e03420e8de72b1098827cb5afbe8dc3ae2d054f3b784d3f007bd396b5fbc3cd8"
   }
  }
 },
 "nbformat": 4,
 "nbformat_minor": 2
}
